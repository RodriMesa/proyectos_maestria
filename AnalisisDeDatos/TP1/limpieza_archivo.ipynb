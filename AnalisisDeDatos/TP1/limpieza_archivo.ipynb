{
 "cells": [
  {
   "cell_type": "code",
   "execution_count": 58,
   "id": "4ac1bc7e",
   "metadata": {},
   "outputs": [],
   "source": [
    "import polars as pl\n",
    "import duckdb"
   ]
  },
  {
   "cell_type": "markdown",
   "id": "e712fd63",
   "metadata": {},
   "source": [
    "#### Exploratorio"
   ]
  },
  {
   "cell_type": "code",
   "execution_count": 59,
   "id": "e8e3dd1f",
   "metadata": {},
   "outputs": [],
   "source": [
    "# Al ser grande, podemos hacer lazy evaluation de las funciones, para reducir costo computacional\n",
    "df = pl.scan_csv(r\"recorridos-realizados-2024/badata_ecobici_recorridos_realizados_2024.csv\") "
   ]
  },
  {
   "cell_type": "code",
   "execution_count": 60,
   "id": "534fbedc",
   "metadata": {},
   "outputs": [
    {
     "data": {
      "text/html": [
       "<div><style>\n",
       ".dataframe > thead > tr,\n",
       ".dataframe > tbody > tr {\n",
       "  text-align: right;\n",
       "  white-space: pre-wrap;\n",
       "}\n",
       "</style>\n",
       "<small>shape: (10, 17)</small><table border=\"1\" class=\"dataframe\"><thead><tr><th>id_recorrido</th><th>duracion_recorrido</th><th>fecha_origen_recorrido</th><th>id_estacion_origen</th><th>nombre_estacion_origen</th><th>direccion_estacion_origen</th><th>long_estacion_origen</th><th>lat_estacion_origen</th><th>fecha_destino_recorrido</th><th>id_estacion_destino</th><th>nombre_estacion_destino</th><th>direccion_estacion_destino</th><th>long_estacion_destino</th><th>lat_estacion_destino</th><th>id_usuario</th><th>modelo_bicicleta</th><th>genero</th></tr><tr><td>i64</td><td>i64</td><td>str</td><td>i64</td><td>str</td><td>str</td><td>f64</td><td>f64</td><td>str</td><td>i64</td><td>str</td><td>str</td><td>f64</td><td>f64</td><td>f64</td><td>str</td><td>str</td></tr></thead><tbody><tr><td>20428222</td><td>568</td><td>&quot;2024-01-23 18:36:00&quot;</td><td>513</td><td>&quot;308 - SAN MARTIN II&quot;</td><td>&quot;Av. San Martín 5129&quot;</td><td>-58.490739</td><td>-34.59713</td><td>&quot;2024-01-23 18:45:28&quot;</td><td>498</td><td>&quot;055 - HABANA&quot;</td><td>&quot;Gral. José Gervasio Artigas 42…</td><td>-58.494959</td><td>-34.586598</td><td>992557.0</td><td>&quot;FIT&quot;</td><td>&quot;MALE&quot;</td></tr><tr><td>20431744</td><td>1355</td><td>&quot;2024-01-23 22:41:20&quot;</td><td>460</td><td>&quot;133 - BEIRO Y SEGUROLA&quot;</td><td>&quot;Segurola 3194&quot;</td><td>-58.51193</td><td>-34.6075</td><td>&quot;2024-01-23 23:03:55&quot;</td><td>382</td><td>&quot;204 - Biarritz&quot;</td><td>&quot;Biarritz 2403&quot;</td><td>-58.477255</td><td>-34.605431</td><td>320782.0</td><td>&quot;FIT&quot;</td><td>&quot;FEMALE&quot;</td></tr><tr><td>20429936</td><td>0</td><td>&quot;2024-01-23 20:06:22&quot;</td><td>467</td><td>&quot;328 - SARMIENTO II&quot;</td><td>&quot;Sarmiento 2037&quot;</td><td>-58.395893</td><td>-34.605514</td><td>&quot;2024-01-23 20:06:22&quot;</td><td>6</td><td>&quot;006 - Parque Lezama&quot;</td><td>&quot;Avenida Martin Garcia, 295&quot;</td><td>-58.369758</td><td>-34.628526</td><td>828678.0</td><td>&quot;FIT&quot;</td><td>&quot;FEMALE&quot;</td></tr><tr><td>20429976</td><td>0</td><td>&quot;2024-01-23 20:08:17&quot;</td><td>382</td><td>&quot;204 - Biarritz&quot;</td><td>&quot;Biarritz 2403&quot;</td><td>-58.477255</td><td>-34.605431</td><td>&quot;2024-01-23 20:08:17&quot;</td><td>460</td><td>&quot;133 - BEIRO Y SEGUROLA&quot;</td><td>&quot;Segurola 3194&quot;</td><td>-58.51193</td><td>-34.6075</td><td>320782.0</td><td>&quot;ICONIC&quot;</td><td>&quot;FEMALE&quot;</td></tr><tr><td>20424802</td><td>680</td><td>&quot;2024-01-23 15:18:39&quot;</td><td>137</td><td>&quot;137 - AZOPARDO Y CHILE&quot;</td><td>&quot;AZOPARDO 700&quot;</td><td>-58.367492</td><td>-34.615598</td><td>&quot;2024-01-23 15:29:59&quot;</td><td>150</td><td>&quot;150 - RODRIGO BUENO&quot;</td><td>&quot;Av. España 2200&quot;</td><td>-58.355465</td><td>-34.618755</td><td>861425.0</td><td>&quot;FIT&quot;</td><td>&quot;FEMALE&quot;</td></tr><tr><td>20427241</td><td>466</td><td>&quot;2024-01-23 17:48:05&quot;</td><td>99</td><td>&quot;099 - Malabia&quot;</td><td>&quot;780 Malabia &amp; Loyola&quot;</td><td>-58.435408</td><td>-34.596096</td><td>&quot;2024-01-23 17:55:51&quot;</td><td>206</td><td>&quot;159 - Fitz Roy &amp; Gorriti&quot;</td><td>&quot;Fitz Roy &amp; Gorriti&quot;</td><td>-58.437339</td><td>-34.58495</td><td>320714.0</td><td>&quot;FIT&quot;</td><td>&quot;OTHER&quot;</td></tr><tr><td>20431004</td><td>1176</td><td>&quot;2024-01-23 21:17:38&quot;</td><td>68</td><td>&quot;105 - PARQUE SAAVEDRA&quot;</td><td>&quot;García del Río 3590&quot;</td><td>-58.480464</td><td>-34.552148</td><td>&quot;2024-01-23 21:37:14&quot;</td><td>68</td><td>&quot;105 - PARQUE SAAVEDRA&quot;</td><td>&quot;García del Río 3590&quot;</td><td>-58.480464</td><td>-34.552148</td><td>1.041602e6</td><td>&quot;ICONIC&quot;</td><td>&quot;MALE&quot;</td></tr><tr><td>20431427</td><td>1906</td><td>&quot;2024-01-23 22:03:46&quot;</td><td>17</td><td>&quot;017 - Plaza Almagro&quot;</td><td>&quot;441 Bulnes &amp; Peron, Juan Domin…</td><td>-58.418731</td><td>-34.60641</td><td>&quot;2024-01-23 22:35:32&quot;</td><td>186</td><td>&quot;186 - MANZANA 66&quot;</td><td>&quot;2875 Moreno&quot;</td><td>-58.406441</td><td>-34.613636</td><td>992479.0</td><td>&quot;FIT&quot;</td><td>&quot;FEMALE&quot;</td></tr><tr><td>20429542</td><td>695</td><td>&quot;2024-01-23 19:44:05&quot;</td><td>284</td><td>&quot;229 - RIGLOS&quot;</td><td>&quot;1019 Riglos&quot;</td><td>-58.435056</td><td>-34.631018</td><td>&quot;2024-01-23 19:55:40&quot;</td><td>432</td><td>&quot;187 - Jose Maria Moreno&quot;</td><td>&quot;141 Jose Maria Moreno&quot;</td><td>-58.435801</td><td>-34.619879</td><td>320688.0</td><td>&quot;FIT&quot;</td><td>&quot;FEMALE&quot;</td></tr><tr><td>20431142</td><td>492</td><td>&quot;2024-01-23 21:31:25&quot;</td><td>432</td><td>&quot;187 - Jose Maria Moreno&quot;</td><td>&quot;141 Jose Maria Moreno&quot;</td><td>-58.435801</td><td>-34.619879</td><td>&quot;2024-01-23 21:39:37&quot;</td><td>284</td><td>&quot;229 - RIGLOS&quot;</td><td>&quot;1019 Riglos&quot;</td><td>-58.435056</td><td>-34.631018</td><td>320688.0</td><td>&quot;FIT&quot;</td><td>&quot;FEMALE&quot;</td></tr></tbody></table></div>"
      ],
      "text/plain": [
       "shape: (10, 17)\n",
       "┌────────────┬────────────┬───────────┬───────────┬───┬───────────┬───────────┬───────────┬────────┐\n",
       "│ id_recorri ┆ duracion_r ┆ fecha_ori ┆ id_estaci ┆ … ┆ lat_estac ┆ id_usuari ┆ modelo_bi ┆ genero │\n",
       "│ do         ┆ ecorrido   ┆ gen_recor ┆ on_origen ┆   ┆ ion_desti ┆ o         ┆ cicleta   ┆ ---    │\n",
       "│ ---        ┆ ---        ┆ rido      ┆ ---       ┆   ┆ no        ┆ ---       ┆ ---       ┆ str    │\n",
       "│ i64        ┆ i64        ┆ ---       ┆ i64       ┆   ┆ ---       ┆ f64       ┆ str       ┆        │\n",
       "│            ┆            ┆ str       ┆           ┆   ┆ f64       ┆           ┆           ┆        │\n",
       "╞════════════╪════════════╪═══════════╪═══════════╪═══╪═══════════╪═══════════╪═══════════╪════════╡\n",
       "│ 20428222   ┆ 568        ┆ 2024-01-2 ┆ 513       ┆ … ┆ -34.58659 ┆ 992557.0  ┆ FIT       ┆ MALE   │\n",
       "│            ┆            ┆ 3         ┆           ┆   ┆ 8         ┆           ┆           ┆        │\n",
       "│            ┆            ┆ 18:36:00  ┆           ┆   ┆           ┆           ┆           ┆        │\n",
       "│ 20431744   ┆ 1355       ┆ 2024-01-2 ┆ 460       ┆ … ┆ -34.60543 ┆ 320782.0  ┆ FIT       ┆ FEMALE │\n",
       "│            ┆            ┆ 3         ┆           ┆   ┆ 1         ┆           ┆           ┆        │\n",
       "│            ┆            ┆ 22:41:20  ┆           ┆   ┆           ┆           ┆           ┆        │\n",
       "│ 20429936   ┆ 0          ┆ 2024-01-2 ┆ 467       ┆ … ┆ -34.62852 ┆ 828678.0  ┆ FIT       ┆ FEMALE │\n",
       "│            ┆            ┆ 3         ┆           ┆   ┆ 6         ┆           ┆           ┆        │\n",
       "│            ┆            ┆ 20:06:22  ┆           ┆   ┆           ┆           ┆           ┆        │\n",
       "│ 20429976   ┆ 0          ┆ 2024-01-2 ┆ 382       ┆ … ┆ -34.6075  ┆ 320782.0  ┆ ICONIC    ┆ FEMALE │\n",
       "│            ┆            ┆ 3         ┆           ┆   ┆           ┆           ┆           ┆        │\n",
       "│            ┆            ┆ 20:08:17  ┆           ┆   ┆           ┆           ┆           ┆        │\n",
       "│ 20424802   ┆ 680        ┆ 2024-01-2 ┆ 137       ┆ … ┆ -34.61875 ┆ 861425.0  ┆ FIT       ┆ FEMALE │\n",
       "│            ┆            ┆ 3         ┆           ┆   ┆ 5         ┆           ┆           ┆        │\n",
       "│            ┆            ┆ 15:18:39  ┆           ┆   ┆           ┆           ┆           ┆        │\n",
       "│ 20427241   ┆ 466        ┆ 2024-01-2 ┆ 99        ┆ … ┆ -34.58495 ┆ 320714.0  ┆ FIT       ┆ OTHER  │\n",
       "│            ┆            ┆ 3         ┆           ┆   ┆           ┆           ┆           ┆        │\n",
       "│            ┆            ┆ 17:48:05  ┆           ┆   ┆           ┆           ┆           ┆        │\n",
       "│ 20431004   ┆ 1176       ┆ 2024-01-2 ┆ 68        ┆ … ┆ -34.55214 ┆ 1.041602e ┆ ICONIC    ┆ MALE   │\n",
       "│            ┆            ┆ 3         ┆           ┆   ┆ 8         ┆ 6         ┆           ┆        │\n",
       "│            ┆            ┆ 21:17:38  ┆           ┆   ┆           ┆           ┆           ┆        │\n",
       "│ 20431427   ┆ 1906       ┆ 2024-01-2 ┆ 17        ┆ … ┆ -34.61363 ┆ 992479.0  ┆ FIT       ┆ FEMALE │\n",
       "│            ┆            ┆ 3         ┆           ┆   ┆ 6         ┆           ┆           ┆        │\n",
       "│            ┆            ┆ 22:03:46  ┆           ┆   ┆           ┆           ┆           ┆        │\n",
       "│ 20429542   ┆ 695        ┆ 2024-01-2 ┆ 284       ┆ … ┆ -34.61987 ┆ 320688.0  ┆ FIT       ┆ FEMALE │\n",
       "│            ┆            ┆ 3         ┆           ┆   ┆ 9         ┆           ┆           ┆        │\n",
       "│            ┆            ┆ 19:44:05  ┆           ┆   ┆           ┆           ┆           ┆        │\n",
       "│ 20431142   ┆ 492        ┆ 2024-01-2 ┆ 432       ┆ … ┆ -34.63101 ┆ 320688.0  ┆ FIT       ┆ FEMALE │\n",
       "│            ┆            ┆ 3         ┆           ┆   ┆ 8         ┆           ┆           ┆        │\n",
       "│            ┆            ┆ 21:31:25  ┆           ┆   ┆           ┆           ┆           ┆        │\n",
       "└────────────┴────────────┴───────────┴───────────┴───┴───────────┴───────────┴───────────┴────────┘"
      ]
     },
     "execution_count": 60,
     "metadata": {},
     "output_type": "execute_result"
    }
   ],
   "source": [
    "df.head(10).collect()"
   ]
  },
  {
   "cell_type": "code",
   "execution_count": 61,
   "id": "963c052a",
   "metadata": {},
   "outputs": [
    {
     "data": {
      "text/html": [
       "<div><style>\n",
       ".dataframe > thead > tr,\n",
       ".dataframe > tbody > tr {\n",
       "  text-align: right;\n",
       "  white-space: pre-wrap;\n",
       "}\n",
       "</style>\n",
       "<small>shape: (9, 18)</small><table border=\"1\" class=\"dataframe\"><thead><tr><th>statistic</th><th>id_recorrido</th><th>duracion_recorrido</th><th>fecha_origen_recorrido</th><th>id_estacion_origen</th><th>nombre_estacion_origen</th><th>direccion_estacion_origen</th><th>long_estacion_origen</th><th>lat_estacion_origen</th><th>fecha_destino_recorrido</th><th>id_estacion_destino</th><th>nombre_estacion_destino</th><th>direccion_estacion_destino</th><th>long_estacion_destino</th><th>lat_estacion_destino</th><th>id_usuario</th><th>modelo_bicicleta</th><th>genero</th></tr><tr><td>str</td><td>f64</td><td>f64</td><td>str</td><td>f64</td><td>str</td><td>str</td><td>f64</td><td>f64</td><td>str</td><td>f64</td><td>str</td><td>str</td><td>f64</td><td>f64</td><td>f64</td><td>str</td><td>str</td></tr></thead><tbody><tr><td>&quot;count&quot;</td><td>3.559284e6</td><td>3.559284e6</td><td>&quot;3559284&quot;</td><td>3.559284e6</td><td>&quot;3559284&quot;</td><td>&quot;3559284&quot;</td><td>3.559284e6</td><td>3.559284e6</td><td>&quot;3555905&quot;</td><td>3.559284e6</td><td>&quot;3559284&quot;</td><td>&quot;3559284&quot;</td><td>3.559284e6</td><td>3.559284e6</td><td>3.559284e6</td><td>&quot;3559284&quot;</td><td>&quot;3547338&quot;</td></tr><tr><td>&quot;null_count&quot;</td><td>0.0</td><td>0.0</td><td>&quot;0&quot;</td><td>0.0</td><td>&quot;0&quot;</td><td>&quot;0&quot;</td><td>0.0</td><td>0.0</td><td>&quot;3379&quot;</td><td>0.0</td><td>&quot;0&quot;</td><td>&quot;0&quot;</td><td>0.0</td><td>0.0</td><td>0.0</td><td>&quot;0&quot;</td><td>&quot;11946&quot;</td></tr><tr><td>&quot;mean&quot;</td><td>2.2341e7</td><td>1274.826768</td><td>null</td><td>235.60638</td><td>null</td><td>null</td><td>-58.423009</td><td>-34.598762</td><td>null</td><td>237.149746</td><td>null</td><td>null</td><td>-58.423176</td><td>-34.598946</td><td>790885.096433</td><td>null</td><td>null</td></tr><tr><td>&quot;std&quot;</td><td>1.2571e6</td><td>9584.21612</td><td>null</td><td>165.799385</td><td>null</td><td>null</td><td>0.038287</td><td>0.024409</td><td>null</td><td>165.710164</td><td>null</td><td>null</td><td>0.038467</td><td>0.024769</td><td>388216.940843</td><td>null</td><td>null</td></tr><tr><td>&quot;min&quot;</td><td>2.0180969e7</td><td>0.0</td><td>&quot;2024-01-01 00:06:50&quot;</td><td>2.0</td><td>&quot;-CDO CUCHA CUCHA-&quot;</td><td>&quot; Av. Eduardo Madero 1180&quot;</td><td>-58.527098</td><td>-34.687767</td><td>&quot;2024-01-01 00:28:36&quot;</td><td>2.0</td><td>&quot;-- CDO Chacarita -- (Temporal)&quot;</td><td>&quot; Av. Eduardo Madero 1180&quot;</td><td>-58.527098</td><td>-34.687767</td><td>24.0</td><td>&quot;FIT&quot;</td><td>&quot;FEMALE&quot;</td></tr><tr><td>&quot;25%&quot;</td><td>2.1238496e7</td><td>493.0</td><td>null</td><td>93.0</td><td>null</td><td>null</td><td>-58.449652</td><td>-34.616354</td><td>null</td><td>96.0</td><td>null</td><td>null</td><td>-58.449659</td><td>-34.616488</td><td>511824.0</td><td>null</td><td>null</td></tr><tr><td>&quot;50%&quot;</td><td>2.2351167e7</td><td>881.0</td><td>null</td><td>199.0</td><td>null</td><td>null</td><td>-58.420954</td><td>-34.600752</td><td>null</td><td>200.0</td><td>null</td><td>null</td><td>-58.420954</td><td>-34.600752</td><td>913360.0</td><td>null</td><td>null</td></tr><tr><td>&quot;75%&quot;</td><td>2.343694e7</td><td>1474.0</td><td>null</td><td>378.0</td><td>null</td><td>null</td><td>-58.393737</td><td>-34.582547</td><td>null</td><td>379.0</td><td>null</td><td>null</td><td>-58.393737</td><td>-34.582337</td><td>1.113537e6</td><td>null</td><td>null</td></tr><tr><td>&quot;max&quot;</td><td>2.4503283e7</td><td>2.571165e6</td><td>&quot;2024-12-31 23:58:25&quot;</td><td>577.0</td><td>&quot;399 - GARCIA DEL RIO&quot;</td><td>&quot;o´higins 1327&quot;</td><td>-58.355465</td><td>-34.536691</td><td>&quot;2025-01-01 04:32:05&quot;</td><td>577.0</td><td>&quot;399 - GARCIA DEL RIO&quot;</td><td>&quot;o´higins 1327&quot;</td><td>-58.355465</td><td>-34.536691</td><td>1.280599e6</td><td>&quot;ICONIC&quot;</td><td>&quot;OTHER&quot;</td></tr></tbody></table></div>"
      ],
      "text/plain": [
       "shape: (9, 18)\n",
       "┌────────────┬───────────┬───────────┬───────────┬───┬───────────┬───────────┬───────────┬─────────┐\n",
       "│ statistic  ┆ id_recorr ┆ duracion_ ┆ fecha_ori ┆ … ┆ lat_estac ┆ id_usuari ┆ modelo_bi ┆ genero  │\n",
       "│ ---        ┆ ido       ┆ recorrido ┆ gen_recor ┆   ┆ ion_desti ┆ o         ┆ cicleta   ┆ ---     │\n",
       "│ str        ┆ ---       ┆ ---       ┆ rido      ┆   ┆ no        ┆ ---       ┆ ---       ┆ str     │\n",
       "│            ┆ f64       ┆ f64       ┆ ---       ┆   ┆ ---       ┆ f64       ┆ str       ┆         │\n",
       "│            ┆           ┆           ┆ str       ┆   ┆ f64       ┆           ┆           ┆         │\n",
       "╞════════════╪═══════════╪═══════════╪═══════════╪═══╪═══════════╪═══════════╪═══════════╪═════════╡\n",
       "│ count      ┆ 3.559284e ┆ 3.559284e ┆ 3559284   ┆ … ┆ 3.559284e ┆ 3.559284e ┆ 3559284   ┆ 3547338 │\n",
       "│            ┆ 6         ┆ 6         ┆           ┆   ┆ 6         ┆ 6         ┆           ┆         │\n",
       "│ null_count ┆ 0.0       ┆ 0.0       ┆ 0         ┆ … ┆ 0.0       ┆ 0.0       ┆ 0         ┆ 11946   │\n",
       "│ mean       ┆ 2.2341e7  ┆ 1274.8267 ┆ null      ┆ … ┆ -34.59894 ┆ 790885.09 ┆ null      ┆ null    │\n",
       "│            ┆           ┆ 68        ┆           ┆   ┆ 6         ┆ 6433      ┆           ┆         │\n",
       "│ std        ┆ 1.2571e6  ┆ 9584.2161 ┆ null      ┆ … ┆ 0.024769  ┆ 388216.94 ┆ null      ┆ null    │\n",
       "│            ┆           ┆ 2         ┆           ┆   ┆           ┆ 0843      ┆           ┆         │\n",
       "│ min        ┆ 2.0180969 ┆ 0.0       ┆ 2024-01-0 ┆ … ┆ -34.68776 ┆ 24.0      ┆ FIT       ┆ FEMALE  │\n",
       "│            ┆ e7        ┆           ┆ 1         ┆   ┆ 7         ┆           ┆           ┆         │\n",
       "│            ┆           ┆           ┆ 00:06:50  ┆   ┆           ┆           ┆           ┆         │\n",
       "│ 25%        ┆ 2.1238496 ┆ 493.0     ┆ null      ┆ … ┆ -34.61648 ┆ 511824.0  ┆ null      ┆ null    │\n",
       "│            ┆ e7        ┆           ┆           ┆   ┆ 8         ┆           ┆           ┆         │\n",
       "│ 50%        ┆ 2.2351167 ┆ 881.0     ┆ null      ┆ … ┆ -34.60075 ┆ 913360.0  ┆ null      ┆ null    │\n",
       "│            ┆ e7        ┆           ┆           ┆   ┆ 2         ┆           ┆           ┆         │\n",
       "│ 75%        ┆ 2.343694e ┆ 1474.0    ┆ null      ┆ … ┆ -34.58233 ┆ 1.113537e ┆ null      ┆ null    │\n",
       "│            ┆ 7         ┆           ┆           ┆   ┆ 7         ┆ 6         ┆           ┆         │\n",
       "│ max        ┆ 2.4503283 ┆ 2.571165e ┆ 2024-12-3 ┆ … ┆ -34.53669 ┆ 1.280599e ┆ ICONIC    ┆ OTHER   │\n",
       "│            ┆ e7        ┆ 6         ┆ 1         ┆   ┆ 1         ┆ 6         ┆           ┆         │\n",
       "│            ┆           ┆           ┆ 23:58:25  ┆   ┆           ┆           ┆           ┆         │\n",
       "└────────────┴───────────┴───────────┴───────────┴───┴───────────┴───────────┴───────────┴─────────┘"
      ]
     },
     "execution_count": 61,
     "metadata": {},
     "output_type": "execute_result"
    }
   ],
   "source": [
    "df.describe()"
   ]
  },
  {
   "cell_type": "code",
   "execution_count": 62,
   "id": "68b3905a",
   "metadata": {},
   "outputs": [
    {
     "data": {
      "text/plain": [
       "Schema([('id_recorrido', Int64),\n",
       "        ('duracion_recorrido', Int64),\n",
       "        ('fecha_origen_recorrido', String),\n",
       "        ('id_estacion_origen', Int64),\n",
       "        ('nombre_estacion_origen', String),\n",
       "        ('direccion_estacion_origen', String),\n",
       "        ('long_estacion_origen', Float64),\n",
       "        ('lat_estacion_origen', Float64),\n",
       "        ('fecha_destino_recorrido', String),\n",
       "        ('id_estacion_destino', Int64),\n",
       "        ('nombre_estacion_destino', String),\n",
       "        ('direccion_estacion_destino', String),\n",
       "        ('long_estacion_destino', Float64),\n",
       "        ('lat_estacion_destino', Float64),\n",
       "        ('id_usuario', Float64),\n",
       "        ('modelo_bicicleta', String),\n",
       "        ('genero', String)])"
      ]
     },
     "execution_count": 62,
     "metadata": {},
     "output_type": "execute_result"
    }
   ],
   "source": [
    "df.collect_schema()"
   ]
  },
  {
   "cell_type": "markdown",
   "id": "64df610b",
   "metadata": {},
   "source": [
    "Vamos a terminar de tipar correctamente las columnas, para luego generar un pequeño modelo estrella, que nos permita realizar queries de forma mas lógica"
   ]
  },
  {
   "cell_type": "code",
   "execution_count": 63,
   "id": "ab41d659",
   "metadata": {},
   "outputs": [],
   "source": [
    "df_transformado = df.with_columns(\n",
    "    pl.col(\"fecha_origen_recorrido\").str.to_datetime(\"%Y-%m-%d %H:%M:%S\"),\n",
    "    pl.col(\"fecha_destino_recorrido\").str.to_datetime(\"%Y-%m-%d %H:%M:%S\"),\n",
    "    pl.col(\"id_usuario\").cast(pl.Int64)\n",
    ")"
   ]
  },
  {
   "cell_type": "markdown",
   "id": "25275115",
   "metadata": {},
   "source": [
    "Revisamos transformaciones:"
   ]
  },
  {
   "cell_type": "code",
   "execution_count": 64,
   "id": "4f670bd7",
   "metadata": {},
   "outputs": [
    {
     "data": {
      "text/html": [
       "<div><style>\n",
       ".dataframe > thead > tr,\n",
       ".dataframe > tbody > tr {\n",
       "  text-align: right;\n",
       "  white-space: pre-wrap;\n",
       "}\n",
       "</style>\n",
       "<small>shape: (10, 17)</small><table border=\"1\" class=\"dataframe\"><thead><tr><th>id_recorrido</th><th>duracion_recorrido</th><th>fecha_origen_recorrido</th><th>id_estacion_origen</th><th>nombre_estacion_origen</th><th>direccion_estacion_origen</th><th>long_estacion_origen</th><th>lat_estacion_origen</th><th>fecha_destino_recorrido</th><th>id_estacion_destino</th><th>nombre_estacion_destino</th><th>direccion_estacion_destino</th><th>long_estacion_destino</th><th>lat_estacion_destino</th><th>id_usuario</th><th>modelo_bicicleta</th><th>genero</th></tr><tr><td>i64</td><td>i64</td><td>datetime[μs]</td><td>i64</td><td>str</td><td>str</td><td>f64</td><td>f64</td><td>datetime[μs]</td><td>i64</td><td>str</td><td>str</td><td>f64</td><td>f64</td><td>i64</td><td>str</td><td>str</td></tr></thead><tbody><tr><td>20428222</td><td>568</td><td>2024-01-23 18:36:00</td><td>513</td><td>&quot;308 - SAN MARTIN II&quot;</td><td>&quot;Av. San Martín 5129&quot;</td><td>-58.490739</td><td>-34.59713</td><td>2024-01-23 18:45:28</td><td>498</td><td>&quot;055 - HABANA&quot;</td><td>&quot;Gral. José Gervasio Artigas 42…</td><td>-58.494959</td><td>-34.586598</td><td>992557</td><td>&quot;FIT&quot;</td><td>&quot;MALE&quot;</td></tr><tr><td>20431744</td><td>1355</td><td>2024-01-23 22:41:20</td><td>460</td><td>&quot;133 - BEIRO Y SEGUROLA&quot;</td><td>&quot;Segurola 3194&quot;</td><td>-58.51193</td><td>-34.6075</td><td>2024-01-23 23:03:55</td><td>382</td><td>&quot;204 - Biarritz&quot;</td><td>&quot;Biarritz 2403&quot;</td><td>-58.477255</td><td>-34.605431</td><td>320782</td><td>&quot;FIT&quot;</td><td>&quot;FEMALE&quot;</td></tr><tr><td>20429936</td><td>0</td><td>2024-01-23 20:06:22</td><td>467</td><td>&quot;328 - SARMIENTO II&quot;</td><td>&quot;Sarmiento 2037&quot;</td><td>-58.395893</td><td>-34.605514</td><td>2024-01-23 20:06:22</td><td>6</td><td>&quot;006 - Parque Lezama&quot;</td><td>&quot;Avenida Martin Garcia, 295&quot;</td><td>-58.369758</td><td>-34.628526</td><td>828678</td><td>&quot;FIT&quot;</td><td>&quot;FEMALE&quot;</td></tr><tr><td>20429976</td><td>0</td><td>2024-01-23 20:08:17</td><td>382</td><td>&quot;204 - Biarritz&quot;</td><td>&quot;Biarritz 2403&quot;</td><td>-58.477255</td><td>-34.605431</td><td>2024-01-23 20:08:17</td><td>460</td><td>&quot;133 - BEIRO Y SEGUROLA&quot;</td><td>&quot;Segurola 3194&quot;</td><td>-58.51193</td><td>-34.6075</td><td>320782</td><td>&quot;ICONIC&quot;</td><td>&quot;FEMALE&quot;</td></tr><tr><td>20424802</td><td>680</td><td>2024-01-23 15:18:39</td><td>137</td><td>&quot;137 - AZOPARDO Y CHILE&quot;</td><td>&quot;AZOPARDO 700&quot;</td><td>-58.367492</td><td>-34.615598</td><td>2024-01-23 15:29:59</td><td>150</td><td>&quot;150 - RODRIGO BUENO&quot;</td><td>&quot;Av. España 2200&quot;</td><td>-58.355465</td><td>-34.618755</td><td>861425</td><td>&quot;FIT&quot;</td><td>&quot;FEMALE&quot;</td></tr><tr><td>20427241</td><td>466</td><td>2024-01-23 17:48:05</td><td>99</td><td>&quot;099 - Malabia&quot;</td><td>&quot;780 Malabia &amp; Loyola&quot;</td><td>-58.435408</td><td>-34.596096</td><td>2024-01-23 17:55:51</td><td>206</td><td>&quot;159 - Fitz Roy &amp; Gorriti&quot;</td><td>&quot;Fitz Roy &amp; Gorriti&quot;</td><td>-58.437339</td><td>-34.58495</td><td>320714</td><td>&quot;FIT&quot;</td><td>&quot;OTHER&quot;</td></tr><tr><td>20431004</td><td>1176</td><td>2024-01-23 21:17:38</td><td>68</td><td>&quot;105 - PARQUE SAAVEDRA&quot;</td><td>&quot;García del Río 3590&quot;</td><td>-58.480464</td><td>-34.552148</td><td>2024-01-23 21:37:14</td><td>68</td><td>&quot;105 - PARQUE SAAVEDRA&quot;</td><td>&quot;García del Río 3590&quot;</td><td>-58.480464</td><td>-34.552148</td><td>1041602</td><td>&quot;ICONIC&quot;</td><td>&quot;MALE&quot;</td></tr><tr><td>20431427</td><td>1906</td><td>2024-01-23 22:03:46</td><td>17</td><td>&quot;017 - Plaza Almagro&quot;</td><td>&quot;441 Bulnes &amp; Peron, Juan Domin…</td><td>-58.418731</td><td>-34.60641</td><td>2024-01-23 22:35:32</td><td>186</td><td>&quot;186 - MANZANA 66&quot;</td><td>&quot;2875 Moreno&quot;</td><td>-58.406441</td><td>-34.613636</td><td>992479</td><td>&quot;FIT&quot;</td><td>&quot;FEMALE&quot;</td></tr><tr><td>20429542</td><td>695</td><td>2024-01-23 19:44:05</td><td>284</td><td>&quot;229 - RIGLOS&quot;</td><td>&quot;1019 Riglos&quot;</td><td>-58.435056</td><td>-34.631018</td><td>2024-01-23 19:55:40</td><td>432</td><td>&quot;187 - Jose Maria Moreno&quot;</td><td>&quot;141 Jose Maria Moreno&quot;</td><td>-58.435801</td><td>-34.619879</td><td>320688</td><td>&quot;FIT&quot;</td><td>&quot;FEMALE&quot;</td></tr><tr><td>20431142</td><td>492</td><td>2024-01-23 21:31:25</td><td>432</td><td>&quot;187 - Jose Maria Moreno&quot;</td><td>&quot;141 Jose Maria Moreno&quot;</td><td>-58.435801</td><td>-34.619879</td><td>2024-01-23 21:39:37</td><td>284</td><td>&quot;229 - RIGLOS&quot;</td><td>&quot;1019 Riglos&quot;</td><td>-58.435056</td><td>-34.631018</td><td>320688</td><td>&quot;FIT&quot;</td><td>&quot;FEMALE&quot;</td></tr></tbody></table></div>"
      ],
      "text/plain": [
       "shape: (10, 17)\n",
       "┌────────────┬────────────┬───────────┬───────────┬───┬───────────┬───────────┬───────────┬────────┐\n",
       "│ id_recorri ┆ duracion_r ┆ fecha_ori ┆ id_estaci ┆ … ┆ lat_estac ┆ id_usuari ┆ modelo_bi ┆ genero │\n",
       "│ do         ┆ ecorrido   ┆ gen_recor ┆ on_origen ┆   ┆ ion_desti ┆ o         ┆ cicleta   ┆ ---    │\n",
       "│ ---        ┆ ---        ┆ rido      ┆ ---       ┆   ┆ no        ┆ ---       ┆ ---       ┆ str    │\n",
       "│ i64        ┆ i64        ┆ ---       ┆ i64       ┆   ┆ ---       ┆ i64       ┆ str       ┆        │\n",
       "│            ┆            ┆ datetime[ ┆           ┆   ┆ f64       ┆           ┆           ┆        │\n",
       "│            ┆            ┆ μs]       ┆           ┆   ┆           ┆           ┆           ┆        │\n",
       "╞════════════╪════════════╪═══════════╪═══════════╪═══╪═══════════╪═══════════╪═══════════╪════════╡\n",
       "│ 20428222   ┆ 568        ┆ 2024-01-2 ┆ 513       ┆ … ┆ -34.58659 ┆ 992557    ┆ FIT       ┆ MALE   │\n",
       "│            ┆            ┆ 3         ┆           ┆   ┆ 8         ┆           ┆           ┆        │\n",
       "│            ┆            ┆ 18:36:00  ┆           ┆   ┆           ┆           ┆           ┆        │\n",
       "│ 20431744   ┆ 1355       ┆ 2024-01-2 ┆ 460       ┆ … ┆ -34.60543 ┆ 320782    ┆ FIT       ┆ FEMALE │\n",
       "│            ┆            ┆ 3         ┆           ┆   ┆ 1         ┆           ┆           ┆        │\n",
       "│            ┆            ┆ 22:41:20  ┆           ┆   ┆           ┆           ┆           ┆        │\n",
       "│ 20429936   ┆ 0          ┆ 2024-01-2 ┆ 467       ┆ … ┆ -34.62852 ┆ 828678    ┆ FIT       ┆ FEMALE │\n",
       "│            ┆            ┆ 3         ┆           ┆   ┆ 6         ┆           ┆           ┆        │\n",
       "│            ┆            ┆ 20:06:22  ┆           ┆   ┆           ┆           ┆           ┆        │\n",
       "│ 20429976   ┆ 0          ┆ 2024-01-2 ┆ 382       ┆ … ┆ -34.6075  ┆ 320782    ┆ ICONIC    ┆ FEMALE │\n",
       "│            ┆            ┆ 3         ┆           ┆   ┆           ┆           ┆           ┆        │\n",
       "│            ┆            ┆ 20:08:17  ┆           ┆   ┆           ┆           ┆           ┆        │\n",
       "│ 20424802   ┆ 680        ┆ 2024-01-2 ┆ 137       ┆ … ┆ -34.61875 ┆ 861425    ┆ FIT       ┆ FEMALE │\n",
       "│            ┆            ┆ 3         ┆           ┆   ┆ 5         ┆           ┆           ┆        │\n",
       "│            ┆            ┆ 15:18:39  ┆           ┆   ┆           ┆           ┆           ┆        │\n",
       "│ 20427241   ┆ 466        ┆ 2024-01-2 ┆ 99        ┆ … ┆ -34.58495 ┆ 320714    ┆ FIT       ┆ OTHER  │\n",
       "│            ┆            ┆ 3         ┆           ┆   ┆           ┆           ┆           ┆        │\n",
       "│            ┆            ┆ 17:48:05  ┆           ┆   ┆           ┆           ┆           ┆        │\n",
       "│ 20431004   ┆ 1176       ┆ 2024-01-2 ┆ 68        ┆ … ┆ -34.55214 ┆ 1041602   ┆ ICONIC    ┆ MALE   │\n",
       "│            ┆            ┆ 3         ┆           ┆   ┆ 8         ┆           ┆           ┆        │\n",
       "│            ┆            ┆ 21:17:38  ┆           ┆   ┆           ┆           ┆           ┆        │\n",
       "│ 20431427   ┆ 1906       ┆ 2024-01-2 ┆ 17        ┆ … ┆ -34.61363 ┆ 992479    ┆ FIT       ┆ FEMALE │\n",
       "│            ┆            ┆ 3         ┆           ┆   ┆ 6         ┆           ┆           ┆        │\n",
       "│            ┆            ┆ 22:03:46  ┆           ┆   ┆           ┆           ┆           ┆        │\n",
       "│ 20429542   ┆ 695        ┆ 2024-01-2 ┆ 284       ┆ … ┆ -34.61987 ┆ 320688    ┆ FIT       ┆ FEMALE │\n",
       "│            ┆            ┆ 3         ┆           ┆   ┆ 9         ┆           ┆           ┆        │\n",
       "│            ┆            ┆ 19:44:05  ┆           ┆   ┆           ┆           ┆           ┆        │\n",
       "│ 20431142   ┆ 492        ┆ 2024-01-2 ┆ 432       ┆ … ┆ -34.63101 ┆ 320688    ┆ FIT       ┆ FEMALE │\n",
       "│            ┆            ┆ 3         ┆           ┆   ┆ 8         ┆           ┆           ┆        │\n",
       "│            ┆            ┆ 21:31:25  ┆           ┆   ┆           ┆           ┆           ┆        │\n",
       "└────────────┴────────────┴───────────┴───────────┴───┴───────────┴───────────┴───────────┴────────┘"
      ]
     },
     "execution_count": 64,
     "metadata": {},
     "output_type": "execute_result"
    }
   ],
   "source": [
    "df_transformado.head(10).collect()"
   ]
  },
  {
   "cell_type": "code",
   "execution_count": 65,
   "id": "d99410a9",
   "metadata": {},
   "outputs": [
    {
     "data": {
      "text/html": [
       "<div><style>\n",
       ".dataframe > thead > tr,\n",
       ".dataframe > tbody > tr {\n",
       "  text-align: right;\n",
       "  white-space: pre-wrap;\n",
       "}\n",
       "</style>\n",
       "<small>shape: (9, 18)</small><table border=\"1\" class=\"dataframe\"><thead><tr><th>statistic</th><th>id_recorrido</th><th>duracion_recorrido</th><th>fecha_origen_recorrido</th><th>id_estacion_origen</th><th>nombre_estacion_origen</th><th>direccion_estacion_origen</th><th>long_estacion_origen</th><th>lat_estacion_origen</th><th>fecha_destino_recorrido</th><th>id_estacion_destino</th><th>nombre_estacion_destino</th><th>direccion_estacion_destino</th><th>long_estacion_destino</th><th>lat_estacion_destino</th><th>id_usuario</th><th>modelo_bicicleta</th><th>genero</th></tr><tr><td>str</td><td>f64</td><td>f64</td><td>str</td><td>f64</td><td>str</td><td>str</td><td>f64</td><td>f64</td><td>str</td><td>f64</td><td>str</td><td>str</td><td>f64</td><td>f64</td><td>f64</td><td>str</td><td>str</td></tr></thead><tbody><tr><td>&quot;count&quot;</td><td>3.559284e6</td><td>3.559284e6</td><td>&quot;3559284&quot;</td><td>3.559284e6</td><td>&quot;3559284&quot;</td><td>&quot;3559284&quot;</td><td>3.559284e6</td><td>3.559284e6</td><td>&quot;3555905&quot;</td><td>3.559284e6</td><td>&quot;3559284&quot;</td><td>&quot;3559284&quot;</td><td>3.559284e6</td><td>3.559284e6</td><td>3.559284e6</td><td>&quot;3559284&quot;</td><td>&quot;3547338&quot;</td></tr><tr><td>&quot;null_count&quot;</td><td>0.0</td><td>0.0</td><td>&quot;0&quot;</td><td>0.0</td><td>&quot;0&quot;</td><td>&quot;0&quot;</td><td>0.0</td><td>0.0</td><td>&quot;3379&quot;</td><td>0.0</td><td>&quot;0&quot;</td><td>&quot;0&quot;</td><td>0.0</td><td>0.0</td><td>0.0</td><td>&quot;0&quot;</td><td>&quot;11946&quot;</td></tr><tr><td>&quot;mean&quot;</td><td>2.2341e7</td><td>1274.826768</td><td>&quot;2024-07-09 05:29:33.472024&quot;</td><td>235.60638</td><td>null</td><td>null</td><td>-58.423009</td><td>-34.598762</td><td>&quot;2024-07-09 02:21:34.868105&quot;</td><td>237.149746</td><td>null</td><td>null</td><td>-58.423176</td><td>-34.598946</td><td>790885.096433</td><td>null</td><td>null</td></tr><tr><td>&quot;std&quot;</td><td>1.2571e6</td><td>9584.21612</td><td>null</td><td>165.799385</td><td>null</td><td>null</td><td>0.038287</td><td>0.024409</td><td>null</td><td>165.710164</td><td>null</td><td>null</td><td>0.038467</td><td>0.024769</td><td>388216.940843</td><td>null</td><td>null</td></tr><tr><td>&quot;min&quot;</td><td>2.0180969e7</td><td>0.0</td><td>&quot;2024-01-01 00:06:50&quot;</td><td>2.0</td><td>&quot;-CDO CUCHA CUCHA-&quot;</td><td>&quot; Av. Eduardo Madero 1180&quot;</td><td>-58.527098</td><td>-34.687767</td><td>&quot;2024-01-01 00:28:36&quot;</td><td>2.0</td><td>&quot;-- CDO Chacarita -- (Temporal)&quot;</td><td>&quot; Av. Eduardo Madero 1180&quot;</td><td>-58.527098</td><td>-34.687767</td><td>24.0</td><td>&quot;FIT&quot;</td><td>&quot;FEMALE&quot;</td></tr><tr><td>&quot;25%&quot;</td><td>2.1238496e7</td><td>493.0</td><td>&quot;2024-04-02 08:48:20&quot;</td><td>93.0</td><td>null</td><td>null</td><td>-58.449652</td><td>-34.616354</td><td>&quot;2024-04-01 23:37:23&quot;</td><td>96.0</td><td>null</td><td>null</td><td>-58.449659</td><td>-34.616488</td><td>511824.0</td><td>null</td><td>null</td></tr><tr><td>&quot;50%&quot;</td><td>2.2351167e7</td><td>881.0</td><td>&quot;2024-07-15 18:05:50&quot;</td><td>199.0</td><td>null</td><td>null</td><td>-58.420954</td><td>-34.600752</td><td>&quot;2024-07-15 16:43:07&quot;</td><td>200.0</td><td>null</td><td>null</td><td>-58.420954</td><td>-34.600752</td><td>913360.0</td><td>null</td><td>null</td></tr><tr><td>&quot;75%&quot;</td><td>2.343694e7</td><td>1474.0</td><td>&quot;2024-10-15 12:46:08&quot;</td><td>378.0</td><td>null</td><td>null</td><td>-58.393737</td><td>-34.582547</td><td>&quot;2024-10-15 09:15:03&quot;</td><td>379.0</td><td>null</td><td>null</td><td>-58.393737</td><td>-34.582337</td><td>1.113537e6</td><td>null</td><td>null</td></tr><tr><td>&quot;max&quot;</td><td>2.4503283e7</td><td>2.571165e6</td><td>&quot;2024-12-31 23:58:25&quot;</td><td>577.0</td><td>&quot;399 - GARCIA DEL RIO&quot;</td><td>&quot;o´higins 1327&quot;</td><td>-58.355465</td><td>-34.536691</td><td>&quot;2025-01-01 04:32:05&quot;</td><td>577.0</td><td>&quot;399 - GARCIA DEL RIO&quot;</td><td>&quot;o´higins 1327&quot;</td><td>-58.355465</td><td>-34.536691</td><td>1.280599e6</td><td>&quot;ICONIC&quot;</td><td>&quot;OTHER&quot;</td></tr></tbody></table></div>"
      ],
      "text/plain": [
       "shape: (9, 18)\n",
       "┌────────────┬───────────┬───────────┬───────────┬───┬───────────┬───────────┬───────────┬─────────┐\n",
       "│ statistic  ┆ id_recorr ┆ duracion_ ┆ fecha_ori ┆ … ┆ lat_estac ┆ id_usuari ┆ modelo_bi ┆ genero  │\n",
       "│ ---        ┆ ido       ┆ recorrido ┆ gen_recor ┆   ┆ ion_desti ┆ o         ┆ cicleta   ┆ ---     │\n",
       "│ str        ┆ ---       ┆ ---       ┆ rido      ┆   ┆ no        ┆ ---       ┆ ---       ┆ str     │\n",
       "│            ┆ f64       ┆ f64       ┆ ---       ┆   ┆ ---       ┆ f64       ┆ str       ┆         │\n",
       "│            ┆           ┆           ┆ str       ┆   ┆ f64       ┆           ┆           ┆         │\n",
       "╞════════════╪═══════════╪═══════════╪═══════════╪═══╪═══════════╪═══════════╪═══════════╪═════════╡\n",
       "│ count      ┆ 3.559284e ┆ 3.559284e ┆ 3559284   ┆ … ┆ 3.559284e ┆ 3.559284e ┆ 3559284   ┆ 3547338 │\n",
       "│            ┆ 6         ┆ 6         ┆           ┆   ┆ 6         ┆ 6         ┆           ┆         │\n",
       "│ null_count ┆ 0.0       ┆ 0.0       ┆ 0         ┆ … ┆ 0.0       ┆ 0.0       ┆ 0         ┆ 11946   │\n",
       "│ mean       ┆ 2.2341e7  ┆ 1274.8267 ┆ 2024-07-0 ┆ … ┆ -34.59894 ┆ 790885.09 ┆ null      ┆ null    │\n",
       "│            ┆           ┆ 68        ┆ 9 05:29:3 ┆   ┆ 6         ┆ 6433      ┆           ┆         │\n",
       "│            ┆           ┆           ┆ 3.472024  ┆   ┆           ┆           ┆           ┆         │\n",
       "│ std        ┆ 1.2571e6  ┆ 9584.2161 ┆ null      ┆ … ┆ 0.024769  ┆ 388216.94 ┆ null      ┆ null    │\n",
       "│            ┆           ┆ 2         ┆           ┆   ┆           ┆ 0843      ┆           ┆         │\n",
       "│ min        ┆ 2.0180969 ┆ 0.0       ┆ 2024-01-0 ┆ … ┆ -34.68776 ┆ 24.0      ┆ FIT       ┆ FEMALE  │\n",
       "│            ┆ e7        ┆           ┆ 1         ┆   ┆ 7         ┆           ┆           ┆         │\n",
       "│            ┆           ┆           ┆ 00:06:50  ┆   ┆           ┆           ┆           ┆         │\n",
       "│ 25%        ┆ 2.1238496 ┆ 493.0     ┆ 2024-04-0 ┆ … ┆ -34.61648 ┆ 511824.0  ┆ null      ┆ null    │\n",
       "│            ┆ e7        ┆           ┆ 2         ┆   ┆ 8         ┆           ┆           ┆         │\n",
       "│            ┆           ┆           ┆ 08:48:20  ┆   ┆           ┆           ┆           ┆         │\n",
       "│ 50%        ┆ 2.2351167 ┆ 881.0     ┆ 2024-07-1 ┆ … ┆ -34.60075 ┆ 913360.0  ┆ null      ┆ null    │\n",
       "│            ┆ e7        ┆           ┆ 5         ┆   ┆ 2         ┆           ┆           ┆         │\n",
       "│            ┆           ┆           ┆ 18:05:50  ┆   ┆           ┆           ┆           ┆         │\n",
       "│ 75%        ┆ 2.343694e ┆ 1474.0    ┆ 2024-10-1 ┆ … ┆ -34.58233 ┆ 1.113537e ┆ null      ┆ null    │\n",
       "│            ┆ 7         ┆           ┆ 5         ┆   ┆ 7         ┆ 6         ┆           ┆         │\n",
       "│            ┆           ┆           ┆ 12:46:08  ┆   ┆           ┆           ┆           ┆         │\n",
       "│ max        ┆ 2.4503283 ┆ 2.571165e ┆ 2024-12-3 ┆ … ┆ -34.53669 ┆ 1.280599e ┆ ICONIC    ┆ OTHER   │\n",
       "│            ┆ e7        ┆ 6         ┆ 1         ┆   ┆ 1         ┆ 6         ┆           ┆         │\n",
       "│            ┆           ┆           ┆ 23:58:25  ┆   ┆           ┆           ┆           ┆         │\n",
       "└────────────┴───────────┴───────────┴───────────┴───┴───────────┴───────────┴───────────┴─────────┘"
      ]
     },
     "execution_count": 65,
     "metadata": {},
     "output_type": "execute_result"
    }
   ],
   "source": [
    "df_transformado.describe()"
   ]
  },
  {
   "cell_type": "code",
   "execution_count": 66,
   "id": "e6366818",
   "metadata": {},
   "outputs": [
    {
     "data": {
      "text/plain": [
       "Schema([('id_recorrido', Int64),\n",
       "        ('duracion_recorrido', Int64),\n",
       "        ('fecha_origen_recorrido', Datetime(time_unit='us', time_zone=None)),\n",
       "        ('id_estacion_origen', Int64),\n",
       "        ('nombre_estacion_origen', String),\n",
       "        ('direccion_estacion_origen', String),\n",
       "        ('long_estacion_origen', Float64),\n",
       "        ('lat_estacion_origen', Float64),\n",
       "        ('fecha_destino_recorrido', Datetime(time_unit='us', time_zone=None)),\n",
       "        ('id_estacion_destino', Int64),\n",
       "        ('nombre_estacion_destino', String),\n",
       "        ('direccion_estacion_destino', String),\n",
       "        ('long_estacion_destino', Float64),\n",
       "        ('lat_estacion_destino', Float64),\n",
       "        ('id_usuario', Int64),\n",
       "        ('modelo_bicicleta', String),\n",
       "        ('genero', String)])"
      ]
     },
     "execution_count": 66,
     "metadata": {},
     "output_type": "execute_result"
    }
   ],
   "source": [
    "df_transformado.collect_schema()"
   ]
  },
  {
   "cell_type": "code",
   "execution_count": 67,
   "id": "05429826",
   "metadata": {},
   "outputs": [
    {
     "data": {
      "text/plain": [
       "Schema([('id_usuario', Int64),\n",
       "        ('genero_usuario', String),\n",
       "        ('edad_usuario', Int64),\n",
       "        ('fecha_alta', String),\n",
       "        ('hora_alta', String)])"
      ]
     },
     "execution_count": 67,
     "metadata": {},
     "output_type": "execute_result"
    }
   ],
   "source": [
    "df_usuarios = pl.scan_csv(\"usuarios_ecobici_2024.csv\")\n",
    "df_usuarios.collect_schema()"
   ]
  },
  {
   "cell_type": "code",
   "execution_count": 68,
   "id": "97161da8",
   "metadata": {},
   "outputs": [
    {
     "data": {
      "text/html": [
       "<div><style>\n",
       ".dataframe > thead > tr,\n",
       ".dataframe > tbody > tr {\n",
       "  text-align: right;\n",
       "  white-space: pre-wrap;\n",
       "}\n",
       "</style>\n",
       "<small>shape: (5, 5)</small><table border=\"1\" class=\"dataframe\"><thead><tr><th>id_usuario</th><th>genero_usuario</th><th>edad_usuario</th><th>fecha_alta</th><th>hora_alta</th></tr><tr><td>i64</td><td>str</td><td>i64</td><td>str</td><td>str</td></tr></thead><tbody><tr><td>1094487</td><td>&quot;OTHER&quot;</td><td>35</td><td>&quot;2024-01-18&quot;</td><td>&quot;09:21:02&quot;</td></tr><tr><td>1097128</td><td>&quot;FEMALE&quot;</td><td>21</td><td>&quot;2024-01-21&quot;</td><td>&quot;23:02:26&quot;</td></tr><tr><td>1102901</td><td>&quot;OTHER&quot;</td><td>19</td><td>&quot;2024-01-29&quot;</td><td>&quot;19:33:32&quot;</td></tr><tr><td>1096100</td><td>&quot;FEMALE&quot;</td><td>29</td><td>&quot;2024-01-20&quot;</td><td>&quot;18:57:05&quot;</td></tr><tr><td>1103049</td><td>&quot;MALE&quot;</td><td>21</td><td>&quot;2024-01-30&quot;</td><td>&quot;00:49:33&quot;</td></tr></tbody></table></div>"
      ],
      "text/plain": [
       "shape: (5, 5)\n",
       "┌────────────┬────────────────┬──────────────┬────────────┬───────────┐\n",
       "│ id_usuario ┆ genero_usuario ┆ edad_usuario ┆ fecha_alta ┆ hora_alta │\n",
       "│ ---        ┆ ---            ┆ ---          ┆ ---        ┆ ---       │\n",
       "│ i64        ┆ str            ┆ i64          ┆ str        ┆ str       │\n",
       "╞════════════╪════════════════╪══════════════╪════════════╪═══════════╡\n",
       "│ 1094487    ┆ OTHER          ┆ 35           ┆ 2024-01-18 ┆ 09:21:02  │\n",
       "│ 1097128    ┆ FEMALE         ┆ 21           ┆ 2024-01-21 ┆ 23:02:26  │\n",
       "│ 1102901    ┆ OTHER          ┆ 19           ┆ 2024-01-29 ┆ 19:33:32  │\n",
       "│ 1096100    ┆ FEMALE         ┆ 29           ┆ 2024-01-20 ┆ 18:57:05  │\n",
       "│ 1103049    ┆ MALE           ┆ 21           ┆ 2024-01-30 ┆ 00:49:33  │\n",
       "└────────────┴────────────────┴──────────────┴────────────┴───────────┘"
      ]
     },
     "execution_count": 68,
     "metadata": {},
     "output_type": "execute_result"
    }
   ],
   "source": [
    "df_usuarios.head().collect()"
   ]
  },
  {
   "cell_type": "code",
   "execution_count": 69,
   "id": "f9d2ffaa",
   "metadata": {},
   "outputs": [],
   "source": [
    "dim_usuario = df_usuarios.with_columns(\n",
    "    pl.concat_str(\n",
    "        pl.col(\"fecha_alta\"), pl.lit(\" \"), pl.col(\"hora_alta\")\n",
    "    ).str.to_datetime(\"%Y-%m-%d %H:%M:%S\").alias(\"timestamp_alta\"),\n",
    ").drop([\"fecha_alta\", \"hora_alta\"])"
   ]
  },
  {
   "cell_type": "code",
   "execution_count": 70,
   "id": "67895078",
   "metadata": {},
   "outputs": [
    {
     "data": {
      "text/html": [
       "<div><style>\n",
       ".dataframe > thead > tr,\n",
       ".dataframe > tbody > tr {\n",
       "  text-align: right;\n",
       "  white-space: pre-wrap;\n",
       "}\n",
       "</style>\n",
       "<small>shape: (197_077, 4)</small><table border=\"1\" class=\"dataframe\"><thead><tr><th>id_usuario</th><th>genero_usuario</th><th>edad_usuario</th><th>timestamp_alta</th></tr><tr><td>i64</td><td>str</td><td>i64</td><td>datetime[μs]</td></tr></thead><tbody><tr><td>1094487</td><td>&quot;OTHER&quot;</td><td>35</td><td>2024-01-18 09:21:02</td></tr><tr><td>1097128</td><td>&quot;FEMALE&quot;</td><td>21</td><td>2024-01-21 23:02:26</td></tr><tr><td>1102901</td><td>&quot;OTHER&quot;</td><td>19</td><td>2024-01-29 19:33:32</td></tr><tr><td>1096100</td><td>&quot;FEMALE&quot;</td><td>29</td><td>2024-01-20 18:57:05</td></tr><tr><td>1103049</td><td>&quot;MALE&quot;</td><td>21</td><td>2024-01-30 00:49:33</td></tr><tr><td>&hellip;</td><td>&hellip;</td><td>&hellip;</td><td>&hellip;</td></tr><tr><td>1120417</td><td>&quot;FEMALE&quot;</td><td>45</td><td>2024-03-01 15:09:21</td></tr><tr><td>1153589</td><td>&quot;MALE&quot;</td><td>55</td><td>2024-05-08 18:17:14</td></tr><tr><td>1216661</td><td>&quot;MALE&quot;</td><td>25</td><td>2024-09-28 09:23:29</td></tr><tr><td>1256657</td><td>&quot;MALE&quot;</td><td>24</td><td>2024-11-22 19:38:23</td></tr><tr><td>1231135</td><td>&quot;MALE&quot;</td><td>20</td><td>2024-10-16 23:21:17</td></tr></tbody></table></div>"
      ],
      "text/plain": [
       "shape: (197_077, 4)\n",
       "┌────────────┬────────────────┬──────────────┬─────────────────────┐\n",
       "│ id_usuario ┆ genero_usuario ┆ edad_usuario ┆ timestamp_alta      │\n",
       "│ ---        ┆ ---            ┆ ---          ┆ ---                 │\n",
       "│ i64        ┆ str            ┆ i64          ┆ datetime[μs]        │\n",
       "╞════════════╪════════════════╪══════════════╪═════════════════════╡\n",
       "│ 1094487    ┆ OTHER          ┆ 35           ┆ 2024-01-18 09:21:02 │\n",
       "│ 1097128    ┆ FEMALE         ┆ 21           ┆ 2024-01-21 23:02:26 │\n",
       "│ 1102901    ┆ OTHER          ┆ 19           ┆ 2024-01-29 19:33:32 │\n",
       "│ 1096100    ┆ FEMALE         ┆ 29           ┆ 2024-01-20 18:57:05 │\n",
       "│ 1103049    ┆ MALE           ┆ 21           ┆ 2024-01-30 00:49:33 │\n",
       "│ …          ┆ …              ┆ …            ┆ …                   │\n",
       "│ 1120417    ┆ FEMALE         ┆ 45           ┆ 2024-03-01 15:09:21 │\n",
       "│ 1153589    ┆ MALE           ┆ 55           ┆ 2024-05-08 18:17:14 │\n",
       "│ 1216661    ┆ MALE           ┆ 25           ┆ 2024-09-28 09:23:29 │\n",
       "│ 1256657    ┆ MALE           ┆ 24           ┆ 2024-11-22 19:38:23 │\n",
       "│ 1231135    ┆ MALE           ┆ 20           ┆ 2024-10-16 23:21:17 │\n",
       "└────────────┴────────────────┴──────────────┴─────────────────────┘"
      ]
     },
     "execution_count": 70,
     "metadata": {},
     "output_type": "execute_result"
    }
   ],
   "source": [
    "dim_usuario.collect()"
   ]
  },
  {
   "cell_type": "markdown",
   "id": "25a756d1",
   "metadata": {},
   "source": [
    "Generamos pequeño modelo dimensional para realizar analisis posteriores:"
   ]
  },
  {
   "cell_type": "code",
   "execution_count": 71,
   "id": "6afeb1d5",
   "metadata": {},
   "outputs": [],
   "source": [
    "fact_recorridos = df_transformado.select(\n",
    "[\n",
    "    'id_recorrido',\n",
    "    'fecha_origen_recorrido',\n",
    "    'fecha_destino_recorrido',\n",
    "    'duracion_recorrido',\n",
    "    'id_estacion_origen',\n",
    "    'id_estacion_destino',\n",
    "    'id_usuario',\n",
    "    'modelo_bicicleta',\n",
    "]   \n",
    ")"
   ]
  },
  {
   "cell_type": "code",
   "execution_count": 72,
   "id": "2669f30e",
   "metadata": {},
   "outputs": [],
   "source": [
    "dim_estaciones = pl.concat(\n",
    "    [df_transformado.select(\n",
    "    [\n",
    "        pl.col('id_estacion_origen').alias('id_estacion'),\n",
    "        pl.col('nombre_estacion_origen').alias('nombre_estacion'),\n",
    "        pl.col('direccion_estacion_origen').alias('direccion_estacion'),\n",
    "        pl.col('long_estacion_origen').alias('long_estacion'),\n",
    "        pl.col('lat_estacion_origen').alias('lat_estacion'),\n",
    "    ]),\n",
    "    df_transformado.select(\n",
    "    [\n",
    "        pl.col('id_estacion_destino').alias('id_estacion'),\n",
    "        pl.col('nombre_estacion_destino').alias('nombre_estacion'),\n",
    "        pl.col('direccion_estacion_destino').alias('direccion_estacion'),\n",
    "        pl.col('long_estacion_destino').alias('long_estacion'),\n",
    "        pl.col('lat_estacion_destino').alias('lat_estacion'),\n",
    "        ]\n",
    "    )]\n",
    ").unique().sort(\"id_estacion\")"
   ]
  },
  {
   "cell_type": "code",
   "execution_count": null,
   "id": "f8623821",
   "metadata": {},
   "outputs": [],
   "source": [
    "# Connect to DuckDB (in-memory database)\n",
    "con = duckdb.connect(\"modelo_estrella2.duckdb\")\n",
    "\n",
    "# Register the Polars DataFrame as a DuckDB table\n",
    "con.register('fact_recorridos', fact_recorridos.collect())\n",
    "con.register('dim_estaciones', dim_estaciones.collect())\n",
    "con.register('dim_usuario', dim_usuario.collect())\n",
    "\n",
    "con.execute(\"CREATE OR REPLACE TABLE fact_recorridos AS SELECT * FROM fact_recorridos\")\n",
    "con.execute(\"CREATE OR REPLACE  TABLE dim_estaciones AS SELECT * FROM dim_estaciones\")\n",
    "con.execute(\"CREATE OR REPLACE  TABLE dim_usuario AS SELECT * FROM dim_usuario\")\n",
    "con.execute(\"\"\"CREATE TABLE dim_calendar AS WITH generate_date AS (\n",
    "        SELECT CAST(RANGE AS DATE) AS date_key \n",
    "          FROM RANGE(DATE '2023-01-01', DATE '2025-01-01', INTERVAL 1 DAY)\n",
    "          )\n",
    "   SELECT date_key AS date_key,\n",
    "          DAYOFYEAR(date_key) AS day_of_year, \n",
    "          YEARWEEK(date_key) AS week_key,\n",
    "          WEEKOFYEAR(date_key) AS week_of_year,\n",
    "          DAYOFWEEK(date_key) AS day_of_week,\n",
    "          ISODOW(date_key) AS iso_day_of_week,\n",
    "          DAYNAME(date_key) AS day_name,\n",
    "          DATE_TRUNC('week', date_key) AS first_day_of_week,\n",
    "          DATE_TRUNC('week', date_key) + 6 AS last_day_of_week,\n",
    "          YEAR(date_key) || RIGHT('0' || MONTH(date_key), 2) AS month_key,\n",
    "          MONTH(date_key) AS month_of_year,\n",
    "          DAYOFMONTH(date_key) AS day_of_month,\n",
    "          LEFT(MONTHNAME(date_key), 3) AS month_name_short,\n",
    "          MONTHNAME(date_key) AS month_name,\n",
    "          DATE_TRUNC('month', date_key) AS first_day_of_month,\n",
    "          LAST_DAY(date_key) AS last_day_of_month,\n",
    "          CAST(YEAR(date_key) || QUARTER(date_key) AS INT) AS quarter_key,\n",
    "          QUARTER(date_key) AS quarter_of_year,\n",
    "          CAST(date_key - DATE_TRUNC('Quarter', date_key) + 1 AS INT) AS day_of_quarter,\n",
    "          ('Q' || QUARTER(date_key)) AS quarter_desc_short,\n",
    "          ('Quarter ' || QUARTER(date_key)) AS quarter_desc,\n",
    "          DATE_TRUNC('quarter', date_key) AS first_day_of_quarter,\n",
    "          LAST_DAY(DATE_TRUNC('quarter', date_key) + INTERVAL 2 MONTH) as last_day_of_quarter,\n",
    "          CAST(YEAR(date_key) AS INT) AS year_key,\n",
    "          DATE_TRUNC('Year', date_key) AS first_day_of_year,\n",
    "          DATE_TRUNC('Year', date_key) - 1 + INTERVAL 1 YEAR AS last_day_of_year,\n",
    "          ROW_NUMBER() OVER (PARTITION BY YEAR(date_key), MONTH(date_key), DAYOFWEEK(date_key) ORDER BY date_key) AS ordinal_weekday_of_month\n",
    "     FROM generate_date \"\"\")\n",
    "con.close()\n"
   ]
  },
  {
   "cell_type": "markdown",
   "id": "d4b8d846",
   "metadata": {},
   "source": [
    "Haciendo este estructuramos mejor nuestra data para consultas, además de que reducimos el tamaño total de los archivos, de 700 MB a 150 MB"
   ]
  }
 ],
 "metadata": {
  "kernelspec": {
   "display_name": ".venv",
   "language": "python",
   "name": "python3"
  },
  "language_info": {
   "codemirror_mode": {
    "name": "ipython",
    "version": 3
   },
   "file_extension": ".py",
   "mimetype": "text/x-python",
   "name": "python",
   "nbconvert_exporter": "python",
   "pygments_lexer": "ipython3",
   "version": "3.11.3"
  }
 },
 "nbformat": 4,
 "nbformat_minor": 5
}
